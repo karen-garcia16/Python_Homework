{
 "cells": [
  {
   "cell_type": "code",
   "execution_count": 27,
   "id": "747fbc19-6dd8-4784-9df7-55285e84aa5f",
   "metadata": {},
   "outputs": [],
   "source": [
    "# Imports\n",
    "import csv\n",
    "from pathlib import Path\n",
    "import os\n",
    "import pandas as pd"
   ]
  },
  {
   "cell_type": "code",
   "execution_count": 15,
   "id": "e637c8a7",
   "metadata": {},
   "outputs": [],
   "source": [
    "# Create file path\n",
    "filetoload = Path (os.getcwd() + \"/budget_data.csv\")\n",
    "filetooutput= Path(\"os.getcwd()/PyBankoutput.txt\")"
   ]
  },
  {
   "cell_type": "code",
   "execution_count": 23,
   "id": "8d3ebf02",
   "metadata": {},
   "outputs": [
    {
     "data": {
      "text/html": [
       "<div>\n",
       "<style scoped>\n",
       "    .dataframe tbody tr th:only-of-type {\n",
       "        vertical-align: middle;\n",
       "    }\n",
       "\n",
       "    .dataframe tbody tr th {\n",
       "        vertical-align: top;\n",
       "    }\n",
       "\n",
       "    .dataframe thead th {\n",
       "        text-align: right;\n",
       "    }\n",
       "</style>\n",
       "<table border=\"1\" class=\"dataframe\">\n",
       "  <thead>\n",
       "    <tr style=\"text-align: right;\">\n",
       "      <th></th>\n",
       "      <th>Date</th>\n",
       "      <th>Profit/Losses</th>\n",
       "    </tr>\n",
       "  </thead>\n",
       "  <tbody>\n",
       "    <tr>\n",
       "      <th>0</th>\n",
       "      <td>Jan-2010</td>\n",
       "      <td>867884</td>\n",
       "    </tr>\n",
       "    <tr>\n",
       "      <th>1</th>\n",
       "      <td>Feb-2010</td>\n",
       "      <td>984655</td>\n",
       "    </tr>\n",
       "    <tr>\n",
       "      <th>2</th>\n",
       "      <td>Mar-2010</td>\n",
       "      <td>322013</td>\n",
       "    </tr>\n",
       "    <tr>\n",
       "      <th>3</th>\n",
       "      <td>Apr-2010</td>\n",
       "      <td>-69417</td>\n",
       "    </tr>\n",
       "    <tr>\n",
       "      <th>4</th>\n",
       "      <td>May-2010</td>\n",
       "      <td>310503</td>\n",
       "    </tr>\n",
       "  </tbody>\n",
       "</table>\n",
       "</div>"
      ],
      "text/plain": [
       "       Date  Profit/Losses\n",
       "0  Jan-2010         867884\n",
       "1  Feb-2010         984655\n",
       "2  Mar-2010         322013\n",
       "3  Apr-2010         -69417\n",
       "4  May-2010         310503"
      ]
     },
     "execution_count": 23,
     "metadata": {},
     "output_type": "execute_result"
    }
   ],
   "source": [
    "#Read csv file as a dataframe\n",
    "budget_csv=pd.read_csv(\"budget_data.csv\")\n",
    "budget_csv.head()"
   ]
  },
  {
   "cell_type": "code",
   "execution_count": 24,
   "id": "5b098f1a",
   "metadata": {},
   "outputs": [
    {
     "data": {
      "text/html": [
       "<div>\n",
       "<style scoped>\n",
       "    .dataframe tbody tr th:only-of-type {\n",
       "        vertical-align: middle;\n",
       "    }\n",
       "\n",
       "    .dataframe tbody tr th {\n",
       "        vertical-align: top;\n",
       "    }\n",
       "\n",
       "    .dataframe thead th {\n",
       "        text-align: right;\n",
       "    }\n",
       "</style>\n",
       "<table border=\"1\" class=\"dataframe\">\n",
       "  <thead>\n",
       "    <tr style=\"text-align: right;\">\n",
       "      <th></th>\n",
       "      <th>Profit/Losses</th>\n",
       "    </tr>\n",
       "  </thead>\n",
       "  <tbody>\n",
       "    <tr>\n",
       "      <th>count</th>\n",
       "      <td>8.600000e+01</td>\n",
       "    </tr>\n",
       "    <tr>\n",
       "      <th>mean</th>\n",
       "      <td>4.463090e+05</td>\n",
       "    </tr>\n",
       "    <tr>\n",
       "      <th>std</th>\n",
       "      <td>5.363579e+05</td>\n",
       "    </tr>\n",
       "    <tr>\n",
       "      <th>min</th>\n",
       "      <td>-1.196225e+06</td>\n",
       "    </tr>\n",
       "    <tr>\n",
       "      <th>25%</th>\n",
       "      <td>1.821620e+05</td>\n",
       "    </tr>\n",
       "    <tr>\n",
       "      <th>50%</th>\n",
       "      <td>5.703280e+05</td>\n",
       "    </tr>\n",
       "    <tr>\n",
       "      <th>75%</th>\n",
       "      <td>7.952262e+05</td>\n",
       "    </tr>\n",
       "    <tr>\n",
       "      <th>max</th>\n",
       "      <td>1.170593e+06</td>\n",
       "    </tr>\n",
       "  </tbody>\n",
       "</table>\n",
       "</div>"
      ],
      "text/plain": [
       "       Profit/Losses\n",
       "count   8.600000e+01\n",
       "mean    4.463090e+05\n",
       "std     5.363579e+05\n",
       "min    -1.196225e+06\n",
       "25%     1.821620e+05\n",
       "50%     5.703280e+05\n",
       "75%     7.952262e+05\n",
       "max     1.170593e+06"
      ]
     },
     "execution_count": 24,
     "metadata": {},
     "output_type": "execute_result"
    }
   ],
   "source": [
    "#Summary of outputs\n",
    "budget_csv.describe()"
   ]
  },
  {
   "cell_type": "code",
   "execution_count": 114,
   "id": "15c8d5c3",
   "metadata": {},
   "outputs": [
    {
     "data": {
      "text/plain": [
       "Date             object\n",
       "Profit/Losses     int64\n",
       "dtype: object"
      ]
     },
     "execution_count": 114,
     "metadata": {},
     "output_type": "execute_result"
    }
   ],
   "source": [
    "#Identify data types\n",
    "budget_csv.dtypes"
   ]
  },
  {
   "cell_type": "code",
   "execution_count": 115,
   "id": "52b1b9c6",
   "metadata": {},
   "outputs": [],
   "source": [
    "filetooutput= Path(\"os.getcwd()/PyBankoutput.txt\")"
   ]
  },
  {
   "cell_type": "code",
   "execution_count": 190,
   "id": "c17002a8",
   "metadata": {},
   "outputs": [],
   "source": [
    "#Declare variables total_months = 0\n",
    "total_pl = 0\n",
    "total_months = 0\n",
    "value = 0\n",
    "month_of_change = 0\n",
    "dates = []\n",
    "profits = []\n",
    "greatest_increase = []\n",
    "greatest_decrease = []"
   ]
  },
  {
   "cell_type": "code",
   "execution_count": 196,
   "id": "33e9444b",
   "metadata": {},
   "outputs": [],
   "source": [
    "# Open and read CSV file\n",
    "with open(\"budget_data.csv\", newline = \"\") as csvfile:\n",
    "    csvreader = csv.reader(csvfile, delimiter = \",\")\n",
    "\n",
    "    csv_header = next(csvreader)\n",
    "    csv_reader = csv.reader(\"budget_data.csv\")\n",
    "\n",
    "    #Reading the first row\n",
    "    first_row = next (csvreader)\n",
    "    total_months = 1\n",
    "    total_pl = int(first_row[1])\n",
    "    value = int(first_row[1])\n",
    "\n",
    "    #Row of data after the header and first row \n",
    "    for row in csvreader:\n",
    "        # Keeping track of the dates\n",
    "        dates.append(row[0])\n",
    "        \n",
    "        # Calculate the change, then add it to list of changes\n",
    "        change = int(row[1])-value\n",
    "        value = int(row[1])\n",
    "\n",
    "        total_months = 1\n",
    "\n",
    "        #Total net amount of profit and losses over entire period\n",
    "        total_pl = total_pl + int(row[1]) \n"
   ]
  },
  {
   "cell_type": "code",
   "execution_count": 197,
   "id": "15b0f2fd",
   "metadata": {},
   "outputs": [
    {
     "name": "stdout",
     "output_type": "stream",
     "text": [
      "38382578\n"
     ]
    }
   ],
   "source": [
    "print(total_pl)"
   ]
  },
  {
   "cell_type": "code",
   "execution_count": 198,
   "id": "5dad2aa9",
   "metadata": {},
   "outputs": [
    {
     "name": "stdout",
     "output_type": "stream",
     "text": [
      "t\n",
      "Jul-2010\n"
     ]
    }
   ],
   "source": [
    "greatest_increase=max(\"profits\")\n",
    "print(greatest_increase)\n",
    "\n",
    "greatest_index = \"profits\".index(greatest_increase)\n",
    "greatest_date = dates[greatest_index]\n",
    "\n",
    "print(greatest_date)"
   ]
  },
  {
   "cell_type": "code",
   "execution_count": 199,
   "id": "f0f20f6b",
   "metadata": {},
   "outputs": [
    {
     "name": "stdout",
     "output_type": "stream",
     "text": [
      "f\n",
      "May-2010\n"
     ]
    }
   ],
   "source": [
    "greatest_decrease=min(\"profits\")\n",
    "print(greatest_decrease)\n",
    "\n",
    "lowest_index = \"profits\".index(greatest_decrease)\n",
    "lowest_date = dates[lowest_index]\n",
    "\n",
    "print(lowest_date)"
   ]
  },
  {
   "cell_type": "code",
   "execution_count": 200,
   "id": "f976f90c",
   "metadata": {},
   "outputs": [
    {
     "ename": "ZeroDivisionError",
     "evalue": "division by zero",
     "output_type": "error",
     "traceback": [
      "\u001b[1;31m---------------------------------------------------------------------------\u001b[0m",
      "\u001b[1;31mZeroDivisionError\u001b[0m                         Traceback (most recent call last)",
      "\u001b[1;32m~\\AppData\\Local\\Temp/ipykernel_13636/2787572951.py\u001b[0m in \u001b[0;36m<module>\u001b[1;34m\u001b[0m\n\u001b[1;32m----> 1\u001b[1;33m \u001b[0maverage_change\u001b[0m\u001b[1;33m=\u001b[0m\u001b[0msum\u001b[0m\u001b[1;33m(\u001b[0m\u001b[0mprofits\u001b[0m\u001b[1;33m)\u001b[0m\u001b[1;33m/\u001b[0m\u001b[0mlen\u001b[0m\u001b[1;33m(\u001b[0m\u001b[0mprofits\u001b[0m\u001b[1;33m)\u001b[0m\u001b[1;33m\u001b[0m\u001b[1;33m\u001b[0m\u001b[0m\n\u001b[0m\u001b[0;32m      2\u001b[0m \u001b[0mprint\u001b[0m \u001b[1;33m(\u001b[0m\u001b[0maverage_change\u001b[0m\u001b[1;33m)\u001b[0m\u001b[1;33m\u001b[0m\u001b[1;33m\u001b[0m\u001b[0m\n",
      "\u001b[1;31mZeroDivisionError\u001b[0m: division by zero"
     ]
    }
   ],
   "source": [
    "average_change=sum(profits)/len(profits)\n",
    "print (average_change)"
   ]
  },
  {
   "cell_type": "code",
   "execution_count": 201,
   "id": "750f9119",
   "metadata": {},
   "outputs": [
    {
     "data": {
      "text/plain": [
       "Date             86\n",
       "Profit/Losses    86\n",
       "dtype: int64"
      ]
     },
     "execution_count": 201,
     "metadata": {},
     "output_type": "execute_result"
    }
   ],
   "source": [
    "#Total number of months (86)\n",
    "budget_csv.count(0)"
   ]
  }
 ],
 "metadata": {
  "kernelspec": {
   "display_name": "Python 3 (ipykernel)",
   "language": "python",
   "name": "python3"
  },
  "language_info": {
   "codemirror_mode": {
    "name": "ipython",
    "version": 3
   },
   "file_extension": ".py",
   "mimetype": "text/x-python",
   "name": "python",
   "nbconvert_exporter": "python",
   "pygments_lexer": "ipython3",
   "version": "3.7.11"
  }
 },
 "nbformat": 4,
 "nbformat_minor": 5
}
